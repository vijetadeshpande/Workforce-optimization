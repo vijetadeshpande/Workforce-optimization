{
 "cells": [
  {
   "cell_type": "markdown",
   "metadata": {},
   "source": [
    "# Logistics Coordination at Consumer Products' Warehouses\n"
   ]
  },
  {
   "cell_type": "markdown",
   "metadata": {},
   "source": [
    "Problems faced by current operations manager are as follows,\n",
    "\n",
    "1. Product handling cost is increasing day by day which is making methods used before expensive.\n",
    "2. Option to tackle this expense is to have reduce the product handling, i.e. to keep the inventory on the incoming trucks itself. But full dedication to this strategy is also not optimal. Hence, balance between old and new strategy has to found out.\n",
    "\n",
    "To find the optimal strategy, I have formulated this problem as a LP problem, objective being minimization of following costs,\n",
    "* Unloading \n",
    "* Loading\n",
    "* Storage\n",
    "* In-house transportation cost\n",
    "* Opportunity cost\n",
    "\n",
    "And the constraints, in a broader picture, cover demand, capacity and availability constraints. Each constraint will be explained in the following code while formulating them. Also, decision variables are discussed while defining them.\n"
   ]
  },
  {
   "cell_type": "markdown",
   "metadata": {},
   "source": [
    "## The Formulation\n",
    "\n",
    "### A. Decision variables:\n",
    "\\begin{equation}\n",
    "U_{product, truck}, \\quad L_{product, truck}, \\quad f_{product, truck}, \\quad \\delta_{product, truck}\\\\\n",
    "\\end{equation}\n",
    "Where,\\\\\n",
    "* first is quantity of a product to be unloaded from a incoming truck on the same day,\n",
    "* second is quantity of a product to be loaded to a truck for delivery,\n",
    "* third is quantity to be unloaded from the inventory on the wheel i.e. trucks which arrived on previous day\n",
    "* last is the decision variable, which makes decision on which inventory on the wheel should be called\n",
    "\n",
    "Given data is represented in following terminologies,\n",
    "1. ${X_{p, t}}$ for incoming quantity of product 'p' in truck 't'\n",
    "2. ${D_{p, t}}$ for demand quantity of product 'p' in truck 't'\n",
    "3. ${V_{p, 1}}$ for volume of each product, as a percentage of truck's volume\n",
    "\n",
    "Also I'll use 'W' for inventory on wheels (i.e. X - U) and 'R' residual inventory for the day (i.e. U + R_(day-1) + f_(day) - L)\n",
    "\n",
    "### B. Constraints:\n",
    "\n",
    "1. Unloading\n",
    "\\begin{equation}\n",
    "U_{p, t} \\leq X_{p, t}\n",
    "\\end{equation}\n",
    "\n",
    "2. Loading\n",
    "\\begin{equation}\n",
    "L_{p, t}' \\cdot V_{p} \\leq [1, 1, ... , 1]'\\\\\n",
    "also, \\\\\n",
    "\\sum_{t, p} L \\cdot V \\geq truck_{day}\\\\\n",
    "\\end{equation}\n",
    "\n",
    "3. Required number of empty trucks\n",
    "\\begin{equation}\n",
    "\\sum_{t, p} (W_{p, t, day}) \\leq (\\sum_{t, p} X_{p, t}) - (\\sum_{t, p} D_{p, t})\\\\\n",
    "\\end{equation}\n",
    "\n",
    "4. Quantity available for loading\n",
    "\\begin{equation}\n",
    "\\sum_{t} L_{p,t} \\leq R_{p, day-1} + \\sum_{t} U_{p, t}\\\\\n",
    "\\end{equation}\n",
    "\n",
    "5. Decision to unload from the inventory on the wheels\n",
    "\\begin{equation}\n",
    "(L_{p, t} - D_{p,t}) + f_{p, t} \\geq 0\\\\\n",
    "\\end{equation}\n",
    "where,\n",
    "\\begin{equation}\n",
    "f_{p, t} \\leq W_{p, t, day-1}\\\\\n",
    "\\end{equation}\n",
    "\n",
    "But, we want ${f \\geq 0}$ only if ${L - D \\leq 0}$, therefore,\n",
    "\\begin{equation}\n",
    "(L_{p, t} - D_{p, t}) \\geq 0 - M \\cdot (\\delta_{p, t})\\\\\n",
    "(L_{p, t} - D_{p, t}) \\leq 0 + M \\cdot (1 - \\delta_{p, t})\\\\\n",
    "\\end{equation}\n",
    "and,\n",
    "\\begin{equation}\n",
    "(f_{p, t}) \\geq 0 - M \\cdot (\\delta_{p, t})\\\\\n",
    "(f_{p, t}) \\leq 0 + M \\cdot (\\delta_{p, t})\\\\\n",
    "(f_{p, t}) \\geq - M \\cdot (1 - \\delta_{p, t})\\\\\n",
    "\\end{equation}\n",
    "\n",
    "Where,\n",
    "$\\delta = 0, 1$ \n",
    "$M$ = Big M = $10^5$ \n",
    "\n",
    "### C. Objective function:\n",
    "\n",
    "The current objective function is considering the following costs,\\\\\n",
    "\n",
    "1. Unloading and loading costs\n",
    "\\begin{equation}\n",
    "C_{unload} = (\\sum_{t} U_{p, t}) \\cdot C_{In-bound} \\cdot 3400\\\\\n",
    "C_{load} = (\\sum_{t} L_{p, t}) \\cdot C_{Out-bound} \\cdot 3400\n",
    "\\end{equation}\n",
    "\n",
    "2. Storage costs for inventory and inventory on wheels\n",
    "\\begin{equation}\n",
    "C_{inv} = (\\sum_{t} U_{p, t} + R_{p, t}) \\cdot \\dfrac{C_{warehouse}}{365} \\cdot 3400\\\\\n",
    "C_{w-inv} = (\\sum_{t} W_{p, t}) \\cdot C_{truck}\n",
    "\\end{equation}\n",
    "\n",
    "3. In-house transportation costs\n",
    "\\begin{equation}\n",
    "C_{trans} = 50 \\cdot \\sum_{t} \\delta_{p, t}\n",
    "\\end{equation}\n",
    "\n",
    "4. Opportunity cost\n",
    "\\begin{equation}\n",
    "C_{oprt} = 20 \\cdot(\\sum_{t} W_{p, t})\n",
    "\\end{equation}\n",
    "\n",
    "Now, let $Z$ be the objective function, i.e.\n",
    "\\begin{equation}\n",
    "Z = \\sum_{i} C_{i}\n",
    "\\end{equation}\n",
    "Where, $i \\in \\{unload, load, inv, w-inv, trans, oprt\\}$\n",
    "\n",
    "and,\n",
    "\\begin{equation}\n",
    "minimize \\quad Z\n",
    "\\end{equation}"
   ]
  },
  {
   "cell_type": "markdown",
   "metadata": {},
   "source": [
    "Lets start building the LP model in Gurobi, first step would be to import all the required libraries"
   ]
  },
  {
   "cell_type": "code",
   "execution_count": 2,
   "metadata": {},
   "outputs": [],
   "source": [
    "# Required libraries\n",
    "import sys\n",
    "from gurobipy import *\n",
    "import numpy as np\n",
    "import pandas as pd"
   ]
  },
  {
   "cell_type": "code",
   "execution_count": 3,
   "metadata": {},
   "outputs": [],
   "source": [
    "# Next step would be to define an empty model in gurobi, in which we'll define the decision variables,\n",
    "# constraints and objective function\n",
    "def get_empty_model():\n",
    "    m = Model()\n",
    "    return m"
   ]
  },
  {
   "cell_type": "markdown",
   "metadata": {},
   "source": [
    "Funtion for defining variables in the model"
   ]
  },
  {
   "cell_type": "code",
   "execution_count": 160,
   "metadata": {},
   "outputs": [],
   "source": [
    "def get_variables(m, trucks_in, trucks_out, product, x_in):\n",
    "    \n",
    "    u = m.addVars(product, 1, lb = 0, ub = x_in, vtype = GRB.CONTINUOUS)        \n",
    "    #print(u.keys())\n",
    "\n",
    "    # load\n",
    "    l = m.addVars(trucks_out, product, lb = 0, vtype = GRB.CONTINUOUS)\n",
    "    #print(l.keys())\n",
    "    \n",
    "    # unload from inventory on wheel\n",
    "    f = m.addVars(product, 1, lb = 0, vtype = GRB.CONTINUOUS)\n",
    "    #print(f.keys())\n",
    "    \n",
    "    # decision on calling inventory on wheel\n",
    "    delta = m.addVars(product, 1, lb = 0, vtype = GRB.BINARY)\n",
    "    #print(delta.keys())\n",
    "    \n",
    "    m.update()\n",
    "    return m"
   ]
  },
  {
   "cell_type": "code",
   "execution_count": 154,
   "metadata": {},
   "outputs": [
    {
     "name": "stdout",
     "output_type": "stream",
     "text": [
      "<gurobi.tuplelist (5 tuples, 2 values each):\n",
      " ( 0 , 0 )\n",
      " ( 1 , 0 )\n",
      " ( 2 , 0 )\n",
      " ( 3 , 0 )\n",
      " ( 4 , 0 )\n",
      ">\n",
      "<gurobi.tuplelist (10 tuples, 2 values each):\n",
      " ( 0 , 0 )\n",
      " ( 0 , 1 )\n",
      " ( 0 , 2 )\n",
      " ( 0 , 3 )\n",
      " ( 0 , 4 )\n",
      " ( 1 , 0 )\n",
      " ( 1 , 1 )\n",
      " ( 1 , 2 )\n",
      " ( 1 , 3 )\n",
      " ( 1 , 4 )\n",
      ">\n",
      "<gurobi.tuplelist (5 tuples, 2 values each):\n",
      " ( 0 , 0 )\n",
      " ( 1 , 0 )\n",
      " ( 2 , 0 )\n",
      " ( 3 , 0 )\n",
      " ( 4 , 0 )\n",
      ">\n",
      "<gurobi.tuplelist (5 tuples, 2 values each):\n",
      " ( 0 , 0 )\n",
      " ( 1 , 0 )\n",
      " ( 2 , 0 )\n",
      " ( 3 , 0 )\n",
      " ( 4 , 0 )\n",
      ">\n"
     ]
    }
   ],
   "source": [
    "# test cell\n",
    "\n",
    "m = get_empty_model()\n",
    "m = get_variables(m, 3, 2, 5, [1000,1000,1000,0,0])"
   ]
  },
  {
   "cell_type": "markdown",
   "metadata": {},
   "source": [
    "Let us now define the constraints in the formulation. The following function; designed to define constraints; will take 'm' (model) and given data (X, D, V i.e. incoming quantity, the demand and the volume of each product, respectively) as input and will return the updated model, which will have the defined constraints in it."
   ]
  },
  {
   "cell_type": "code",
   "execution_count": 158,
   "metadata": {},
   "outputs": [],
   "source": [
    "def get_constraints(m, trucks_in, trucks_out, product, x_in, v_prod, residual, Big_M):\n",
    "    \n",
    "    # constraint 1: upper limit on unloading\n",
    "    # this constraint is defined as upper bound on variable 'u'\n",
    "             \n",
    "    # constraint 2: Volume constraint of truck and constraint on number of deliveries\n",
    "    c21 = m.addConstr(l.prod(v_prod, i, '*') <= 1 for i in range(trucks_out))\n",
    "    print(c2.keys)\n",
    "    \n",
    "    c22 = m.addConstr(l.sum(l.prod(v_prod, i, '*')) == trucks_out for i in range(trucks_out))\n",
    "    print(c22.keys)\n",
    "    \n",
    "    # constraint 3: number of unloaded trucks has to be greater than or equal to the \n",
    "    # number of delivery trucks on same day\n",
    "    c31 = m.addConstr(u.sum() >= trucks_out)\n",
    "    \n",
    "    # constraint 4: material available for loading\n",
    "    c41 = m.addConstr(l.sum('*', p) <= (residual + u) for p in range(product))    \n",
    "    \n",
    "    # constraint 5:\n",
    "    \n",
    "    # 5.1 : material available for loading for product + unloading from iventory on wheel >= demand for that product\n",
    "    c51 = m.addConstr(l.sum('*', p) + f >= np.sum(demand,2) for p in range(product))\n",
    "    \n",
    "    # 5.2 : Unloading from material_in + unloading from inv_on_wheel <= material_in\n",
    "    c52 = m.addConstr(u + f <= x_in)\n",
    "    \n",
    "    # 5.3 : we have to call inv_on_wheel only if loading from inventory is not satisfying the demand\n",
    "    c53 = m.addConstr(l.sum('*', p) - demand >= (-1*Big_M*(delta)))\n",
    "    c54 = m.addConstr(l.sum('*', p) - demand <= (Big_M*(np.ones((product, 1)) - delta)))\n",
    "    c55 = m.addConstr(f >= (-1*Big_M*(delta)))\n",
    "    c56 = m.addConstr(f <= (Big_M*(delta)))\n",
    "    c57 = m.addConstr(f >= (-1*Big_M*(np.ones((product, 1)) - delta)))\n",
    "    \n",
    "    # update model\n",
    "    m.update()\n",
    "    return m"
   ]
  },
  {
   "cell_type": "code",
   "execution_count": 161,
   "metadata": {},
   "outputs": [
    {
     "ename": "TypeError",
     "evalue": "unsupported operand type(s) for -: 'generator' and 'NoneType'",
     "output_type": "error",
     "traceback": [
      "\u001b[0;31m---------------------------------------------------------------------------\u001b[0m",
      "\u001b[0;31mTypeError\u001b[0m                                 Traceback (most recent call last)",
      "\u001b[0;32m<ipython-input-161-a1c0489a169a>\u001b[0m in \u001b[0;36m<module>\u001b[0;34m()\u001b[0m\n\u001b[1;32m      3\u001b[0m \u001b[0mm\u001b[0m \u001b[0;34m=\u001b[0m \u001b[0mget_empty_model\u001b[0m\u001b[0;34m(\u001b[0m\u001b[0;34m)\u001b[0m\u001b[0;34m\u001b[0m\u001b[0m\n\u001b[1;32m      4\u001b[0m \u001b[0mm\u001b[0m \u001b[0;34m=\u001b[0m \u001b[0mget_variables\u001b[0m\u001b[0;34m(\u001b[0m\u001b[0mm\u001b[0m\u001b[0;34m,\u001b[0m \u001b[0;36m3\u001b[0m\u001b[0;34m,\u001b[0m \u001b[0;36m2\u001b[0m\u001b[0;34m,\u001b[0m \u001b[0;36m5\u001b[0m\u001b[0;34m,\u001b[0m \u001b[0;34m[\u001b[0m\u001b[0;36m1\u001b[0m\u001b[0;34m,\u001b[0m\u001b[0;36m1\u001b[0m\u001b[0;34m,\u001b[0m\u001b[0;36m2\u001b[0m\u001b[0;34m,\u001b[0m\u001b[0;36m0\u001b[0m\u001b[0;34m,\u001b[0m\u001b[0;36m0\u001b[0m\u001b[0;34m]\u001b[0m\u001b[0;34m)\u001b[0m\u001b[0;34m\u001b[0m\u001b[0m\n\u001b[0;32m----> 5\u001b[0;31m \u001b[0mm\u001b[0m \u001b[0;34m=\u001b[0m \u001b[0mget_constraints\u001b[0m\u001b[0;34m(\u001b[0m\u001b[0mm\u001b[0m\u001b[0;34m,\u001b[0m \u001b[0;36m3\u001b[0m\u001b[0;34m,\u001b[0m \u001b[0;36m2\u001b[0m\u001b[0;34m,\u001b[0m \u001b[0;36m5\u001b[0m\u001b[0;34m,\u001b[0m \u001b[0;34m[\u001b[0m\u001b[0;36m1\u001b[0m\u001b[0;34m,\u001b[0m\u001b[0;36m1\u001b[0m\u001b[0;34m,\u001b[0m\u001b[0;36m2\u001b[0m\u001b[0;34m,\u001b[0m\u001b[0;36m0\u001b[0m\u001b[0;34m,\u001b[0m\u001b[0;36m0\u001b[0m\u001b[0;34m]\u001b[0m\u001b[0;34m,\u001b[0m \u001b[0;34m[\u001b[0m\u001b[0;36m0.16\u001b[0m\u001b[0;34m,\u001b[0m \u001b[0;36m0.20\u001b[0m\u001b[0;34m,\u001b[0m \u001b[0;36m0.10\u001b[0m\u001b[0;34m,\u001b[0m \u001b[0;36m0.50\u001b[0m\u001b[0;34m,\u001b[0m \u001b[0;36m0.15\u001b[0m\u001b[0;34m]\u001b[0m\u001b[0;34m,\u001b[0m \u001b[0;34m[\u001b[0m\u001b[0;36m1\u001b[0m\u001b[0;34m,\u001b[0m\u001b[0;36m2\u001b[0m\u001b[0;34m,\u001b[0m\u001b[0;36m3\u001b[0m\u001b[0;34m,\u001b[0m\u001b[0;36m4\u001b[0m\u001b[0;34m,\u001b[0m\u001b[0;36m5\u001b[0m\u001b[0;34m]\u001b[0m\u001b[0;34m,\u001b[0m \u001b[0;36m1000000\u001b[0m\u001b[0;34m)\u001b[0m\u001b[0;34m\u001b[0m\u001b[0m\n\u001b[0m",
      "\u001b[0;32m<ipython-input-158-189f40ec7c69>\u001b[0m in \u001b[0;36mget_constraints\u001b[0;34m(m, trucks_in, trucks_out, product, x_in, v_prod, residual, Big_M)\u001b[0m\n\u001b[1;32m      5\u001b[0m \u001b[0;34m\u001b[0m\u001b[0m\n\u001b[1;32m      6\u001b[0m     \u001b[0;31m# constraint 2: Volume constraint of truck and constraint on number of deliveries\u001b[0m\u001b[0;34m\u001b[0m\u001b[0;34m\u001b[0m\u001b[0m\n\u001b[0;32m----> 7\u001b[0;31m     \u001b[0mc21\u001b[0m \u001b[0;34m=\u001b[0m \u001b[0mm\u001b[0m\u001b[0;34m.\u001b[0m\u001b[0maddConstr\u001b[0m\u001b[0;34m(\u001b[0m\u001b[0ml\u001b[0m\u001b[0;34m.\u001b[0m\u001b[0mprod\u001b[0m\u001b[0;34m(\u001b[0m\u001b[0mv_prod\u001b[0m\u001b[0;34m,\u001b[0m \u001b[0mi\u001b[0m\u001b[0;34m,\u001b[0m \u001b[0;34m'*'\u001b[0m\u001b[0;34m)\u001b[0m \u001b[0;34m<=\u001b[0m \u001b[0;36m1\u001b[0m \u001b[0;32mfor\u001b[0m \u001b[0mi\u001b[0m \u001b[0;32min\u001b[0m \u001b[0mrange\u001b[0m\u001b[0;34m(\u001b[0m\u001b[0mtrucks_out\u001b[0m\u001b[0;34m)\u001b[0m\u001b[0;34m)\u001b[0m\u001b[0;34m\u001b[0m\u001b[0m\n\u001b[0m\u001b[1;32m      8\u001b[0m     \u001b[0;32mprint\u001b[0m\u001b[0;34m(\u001b[0m\u001b[0mc2\u001b[0m\u001b[0;34m.\u001b[0m\u001b[0mkeys\u001b[0m\u001b[0;34m)\u001b[0m\u001b[0;34m\u001b[0m\u001b[0m\n\u001b[1;32m      9\u001b[0m \u001b[0;34m\u001b[0m\u001b[0m\n",
      "\u001b[0;32mmodel.pxi\u001b[0m in \u001b[0;36mgurobipy.Model.addConstr (../../src/python/gurobipy.c:81686)\u001b[0;34m()\u001b[0m\n",
      "\u001b[0;31mTypeError\u001b[0m: unsupported operand type(s) for -: 'generator' and 'NoneType'"
     ]
    }
   ],
   "source": [
    "# test cell\n",
    "\n",
    "m = get_empty_model()\n",
    "m = get_variables(m, 3, 2, 5, [1,1,2,0,0])\n",
    "m = get_constraints(m, 3, 2, 5, [1,1,2,0,0], [0.16, 0.20, 0.10, 0.50, 0.15], [1,2,3,4,5], 1000000)"
   ]
  },
  {
   "cell_type": "markdown",
   "metadata": {},
   "source": [
    "We'll now define a function for objective function of our formulation. This function will also take 'm' (model) and some given constants used in calculation of all costs, then function will make updates into the model and will return the updated model."
   ]
  },
  {
   "cell_type": "code",
   "execution_count": 4,
   "metadata": {},
   "outputs": [],
   "source": [
    "def get_objective(m):\n",
    "    \n",
    "    # cost 1:\n",
    "    \n",
    "    \n",
    "    \n",
    "    # cost 2:\n",
    "    \n",
    "    \n",
    "    \n",
    "    # cost 3:\n",
    "    \n",
    "    \n",
    "    \n",
    "    # cost 4:\n",
    "    \n",
    "    \n",
    "\n",
    "    \n",
    "    return m"
   ]
  },
  {
   "cell_type": "markdown",
   "metadata": {},
   "source": [
    "Function for getting data for the current day"
   ]
  },
  {
   "cell_type": "code",
   "execution_count": 162,
   "metadata": {},
   "outputs": [],
   "source": [
    "def get_data_today(day):\n",
    "    \n",
    "    \n",
    "    return (x_in, demand, v_prod)"
   ]
  },
  {
   "cell_type": "markdown",
   "metadata": {},
   "source": [
    "We have now defined all the necessary functions; or say, components of model; required to completely define our formulation. There will a separate model defined and solved for each day, therefor we'll define a loop for 14 days, which will build and solve model for 14 days and will give us an optimal quantity to be unloaded and loaded in order to satisfy the demand."
   ]
  },
  {
   "cell_type": "code",
   "execution_count": 5,
   "metadata": {},
   "outputs": [
    {
     "ename": "NameError",
     "evalue": "name 'get_data' is not defined",
     "output_type": "error",
     "traceback": [
      "\u001b[0;31m---------------------------------------------------------------------------\u001b[0m",
      "\u001b[0;31mNameError\u001b[0m                                 Traceback (most recent call last)",
      "\u001b[0;32m<ipython-input-5-1ef28b32a269>\u001b[0m in \u001b[0;36m<module>\u001b[0;34m()\u001b[0m\n\u001b[1;32m      3\u001b[0m \u001b[0;34m\u001b[0m\u001b[0m\n\u001b[1;32m      4\u001b[0m     \u001b[0;31m# get data for today\u001b[0m\u001b[0;34m\u001b[0m\u001b[0;34m\u001b[0m\u001b[0m\n\u001b[0;32m----> 5\u001b[0;31m     \u001b[0;34m(\u001b[0m\u001b[0mX\u001b[0m\u001b[0;34m,\u001b[0m \u001b[0mD\u001b[0m\u001b[0;34m,\u001b[0m \u001b[0mV\u001b[0m\u001b[0;34m)\u001b[0m \u001b[0;34m=\u001b[0m \u001b[0mget_data\u001b[0m\u001b[0;34m(\u001b[0m\u001b[0mday\u001b[0m\u001b[0;34m)\u001b[0m\u001b[0;34m\u001b[0m\u001b[0m\n\u001b[0m\u001b[1;32m      6\u001b[0m \u001b[0;34m\u001b[0m\u001b[0m\n\u001b[1;32m      7\u001b[0m     \u001b[0;31m# build empty model in gurobi\u001b[0m\u001b[0;34m\u001b[0m\u001b[0;34m\u001b[0m\u001b[0m\n",
      "\u001b[0;31mNameError\u001b[0m: name 'get_data' is not defined"
     ]
    }
   ],
   "source": [
    "# loop for 14 days\n",
    "for day in range(1,14): # day = 0, can be used for yesterday, where we can define initial inventory\n",
    "    \n",
    "    # get data for today\n",
    "    (X, D, V) = get_data_today(day)\n",
    "    \n",
    "    # build empty model in gurobi\n",
    "    m = get_empty_model()\n",
    "    \n",
    "    # define variables\n",
    "    m = get_variables(m)\n",
    "    \n",
    "    # define constraints\n",
    "    m = get_constraints(m)\n",
    "    \n",
    "    # define objective\n",
    "    m = get_objective(m)\n",
    "    \n",
    "    # solve model\n",
    "    m.solve()\n",
    "    \n",
    "    # get residual quantity in inventory\n",
    "    \n",
    "    \n",
    "    # repeat\n",
    "    \n",
    "    \n"
   ]
  },
  {
   "cell_type": "code",
   "execution_count": null,
   "metadata": {},
   "outputs": [],
   "source": []
  }
 ],
 "metadata": {
  "kernelspec": {
   "display_name": "Python 2",
   "language": "python",
   "name": "python2"
  },
  "language_info": {
   "codemirror_mode": {
    "name": "ipython",
    "version": 2
   },
   "file_extension": ".py",
   "mimetype": "text/x-python",
   "name": "python",
   "nbconvert_exporter": "python",
   "pygments_lexer": "ipython2",
   "version": "2.7.14"
  }
 },
 "nbformat": 4,
 "nbformat_minor": 2
}
