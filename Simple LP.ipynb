{
 "cells": [
  {
   "cell_type": "markdown",
   "metadata": {},
   "source": [
    "# Simple LP model in Gurobi"
   ]
  },
  {
   "cell_type": "markdown",
   "metadata": {},
   "source": [
    "\n",
    "The following notebook is constructed to guide beginners in LP for implementing the different types of LP models in Gurobi's Python interface. First we'll start with a very simple model and then gradually we'll consider difficult formulations in LP, their implementation and discussion on solution.\n",
    "\n",
    "Let's begin with following simple formulation\n",
    "\n",
    "\\begin{equation}\n",
    "Maximize \\quad 3x_1 + 2x_2\n",
    "\\end{equation}\n",
    "Such that,\n",
    "\\begin{equation}\n",
    "x_1 + x2 \\leq 4\\\\\n",
    "2x_1 + x2 \\leq 5\\\\\n",
    "-x_1 + 4x_2 \\geq 2\\\\\n",
    "x_1 , x_2 \\geq 0\n",
    "\\end{equation}\n"
   ]
  },
  {
   "cell_type": "markdown",
   "metadata": {},
   "source": [
    "In Gurobi, whenever you are required to build a mathematica model, you have to define an empty model first. This model then will facilitate you to define decision variables, constraints and objective function into it. Therefore, step 1 will be to import Gurobi in Python and define an empty model."
   ]
  },
  {
   "cell_type": "code",
   "execution_count": 8,
   "metadata": {},
   "outputs": [],
   "source": [
    "from gurobipy import *\n",
    "import numpy as np\n",
    "import sys\n",
    "\n",
    "# define empty model\n",
    "m = Model()"
   ]
  },
  {
   "cell_type": "code",
   "execution_count": 9,
   "metadata": {},
   "outputs": [],
   "source": [
    "# adding decision variables\n",
    "x1 = m.addVar(lb = 0, ub = GRB.INFINITY, obj = 3, vtype=GRB.CONTINUOUS, name= \"x_1\")\n",
    "x2 = m.addVar(lb = 0, ub = GRB.INFINITY, obj = 2, vtype=GRB.CONTINUOUS, name= \"x_2\")\n",
    "m.update()"
   ]
  },
  {
   "cell_type": "code",
   "execution_count": 10,
   "metadata": {},
   "outputs": [],
   "source": [
    "# adding constraints\n",
    "m.addConstr(x1 + x2, \"<=\", 4)\n",
    "m.addConstr(2*x1 + x2, \"<=\", 5)\n",
    "m.addConstr(-1*x1 + 4*x2, \">=\", 2)\n",
    "m.update()"
   ]
  },
  {
   "cell_type": "code",
   "execution_count": 11,
   "metadata": {},
   "outputs": [],
   "source": [
    "# adding objective function\n",
    "m.setObjective(3*x1 + 2*x2, GRB.MAXIMIZE)\n",
    "m.update()"
   ]
  },
  {
   "cell_type": "code",
   "execution_count": 12,
   "metadata": {},
   "outputs": [
    {
     "name": "stdout",
     "output_type": "stream",
     "text": [
      "Optimize a model with 3 rows, 2 columns and 6 nonzeros\n",
      "Coefficient statistics:\n",
      "  Matrix range     [1e+00, 4e+00]\n",
      "  Objective range  [2e+00, 3e+00]\n",
      "  Bounds range     [0e+00, 0e+00]\n",
      "  RHS range        [2e+00, 5e+00]\n",
      "Presolve time: 0.02s\n",
      "Presolved: 3 rows, 2 columns, 6 nonzeros\n",
      "\n",
      "Iteration    Objective       Primal Inf.    Dual Inf.      Time\n",
      "       0    4.0000000e+30   2.750000e+30   4.000000e+00      0s\n",
      "       3    9.0000000e+00   0.000000e+00   0.000000e+00      0s\n",
      "\n",
      "Solved in 3 iterations and 0.04 seconds\n",
      "Optimal objective  9.000000000e+00\n",
      "<gurobi.Var x_1 (value 1.0)>\n",
      "<gurobi.Var x_2 (value 3.0)>\n"
     ]
    }
   ],
   "source": [
    "# solve the Linear Program\n",
    "m.optimize()\n",
    "print(x1)\n",
    "print(x2)"
   ]
  },
  {
   "cell_type": "markdown",
   "metadata": {},
   "source": []
  },
  {
   "cell_type": "code",
   "execution_count": null,
   "metadata": {},
   "outputs": [],
   "source": []
  }
 ],
 "metadata": {
  "kernelspec": {
   "display_name": "Python 2",
   "language": "python",
   "name": "python2"
  },
  "language_info": {
   "codemirror_mode": {
    "name": "ipython",
    "version": 2
   },
   "file_extension": ".py",
   "mimetype": "text/x-python",
   "name": "python",
   "nbconvert_exporter": "python",
   "pygments_lexer": "ipython2",
   "version": "2.7.14"
  }
 },
 "nbformat": 4,
 "nbformat_minor": 2
}
